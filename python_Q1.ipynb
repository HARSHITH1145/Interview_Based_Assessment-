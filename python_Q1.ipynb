{
 "cells": [
  {
   "cell_type": "markdown",
   "id": "e5a90e85",
   "metadata": {},
   "source": [
    "# Question 1: -\n",
    "Write a program that takes a string as input, and counts the frequency of each word in the string, there might\n",
    "be repeated characters in the string. Your task is to find the highest frequency and returns the length of the\n",
    "highest-frequency word.\n",
    "\n",
    "Note - You have to write at least 2 additional test cases in which your program will run successfully and provide\n",
    "an explanation for the same.\n",
    "Example input - string = “write write write all the number from from from 1 to 100”\n",
    "Example output - 5\n",
    "Explanation - From the given string we can note that the most frequent words are “write” and “from” and\n",
    "the maximum value of both the values is “write” and its corresponding length is 5"
   ]
  },
  {
   "cell_type": "code",
   "execution_count": 5,
   "id": "a283ca6b",
   "metadata": {},
   "outputs": [],
   "source": [
    "def highest_frequency(string):\n",
    "    b=string.lower().replace('.','').replace(',','').replace('!','').replace('?','')\n",
    "    l=b.split()\n",
    "    x={}\n",
    "    for i in l:\n",
    "        if i in x:\n",
    "            x[i]+=1\n",
    "        else:\n",
    "            x[i]=1\n",
    "    print(x)\n",
    "    l1={}\n",
    "    for i,j in x.items():\n",
    "        if j ==max(x.values()):\n",
    "            l1[i]=len(i)\n",
    "    print(l1)\n",
    "    for i,j in l1.items():\n",
    "        if j == max(l1.values()):\n",
    "            return f'highest frequency word is {i,j}'    \n",
    "                \n",
    "                \n",
    "\n",
    "    \n",
    "    \n",
    "    "
   ]
  },
  {
   "cell_type": "code",
   "execution_count": 6,
   "id": "d98b09c4",
   "metadata": {},
   "outputs": [
    {
     "name": "stdout",
     "output_type": "stream",
     "text": [
      "{'write': 3, 'for': 1, 'the': 2}\n",
      "{'write': 5}\n"
     ]
    },
    {
     "data": {
      "text/plain": [
       "\"highest frequency word is ('write', 5)\""
      ]
     },
     "execution_count": 6,
     "metadata": {},
     "output_type": "execute_result"
    }
   ],
   "source": [
    "highest_frequency(\"write write write for, the the\")\n"
   ]
  },
  {
   "cell_type": "code",
   "execution_count": 7,
   "id": "1c94ed79",
   "metadata": {},
   "outputs": [
    {
     "name": "stdout",
     "output_type": "stream",
     "text": [
      "{'a': 3, 'room': 1, 'without': 2, 'books': 1, 'is': 1, 'like': 1, 'body': 1, 'soul': 1}\n",
      "{'a': 1}\n"
     ]
    },
    {
     "data": {
      "text/plain": [
       "\"highest frequency word is ('a', 1)\""
      ]
     },
     "execution_count": 7,
     "metadata": {},
     "output_type": "execute_result"
    }
   ],
   "source": [
    "highest_frequency(\"A room without books is like a body without a soul.\")"
   ]
  },
  {
   "cell_type": "code",
   "execution_count": 8,
   "id": "4f676096",
   "metadata": {},
   "outputs": [
    {
     "name": "stdout",
     "output_type": "stream",
     "text": [
      "{'you': 2, 'know': 1, \"you're\": 1, 'in': 1, 'love': 1, 'when': 1, \"can't\": 1, 'fall': 1, 'asleep': 1, 'because': 1, 'reality': 1, 'is': 1, 'finally': 1, 'better': 1, 'than': 1, 'your': 1, 'dreams': 1}\n",
      "{'you': 3}\n"
     ]
    },
    {
     "data": {
      "text/plain": [
       "\"highest frequency word is ('you', 3)\""
      ]
     },
     "execution_count": 8,
     "metadata": {},
     "output_type": "execute_result"
    }
   ],
   "source": [
    "highest_frequency(\"You know you're in love when you can't fall asleep because reality is finally better than your dreams.\")"
   ]
  },
  {
   "cell_type": "code",
   "execution_count": null,
   "id": "13e4ce5e",
   "metadata": {},
   "outputs": [],
   "source": []
  }
 ],
 "metadata": {
  "kernelspec": {
   "display_name": "Python 3",
   "language": "python",
   "name": "python3"
  },
  "language_info": {
   "codemirror_mode": {
    "name": "ipython",
    "version": 3
   },
   "file_extension": ".py",
   "mimetype": "text/x-python",
   "name": "python",
   "nbconvert_exporter": "python",
   "pygments_lexer": "ipython3",
   "version": "3.8.8"
  }
 },
 "nbformat": 4,
 "nbformat_minor": 5
}
