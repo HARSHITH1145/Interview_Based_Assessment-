{
 "cells": [
  {
   "cell_type": "markdown",
   "id": "316f6340",
   "metadata": {},
   "source": [
    "# spacy"
   ]
  },
  {
   "cell_type": "markdown",
   "id": "72fd6381",
   "metadata": {},
   "source": [
    "# Spacy is an open-source library for natural language processing (NLP) in Python. Spacy can assign grammatical tags to each token, such as noun, verb, adjective, etc."
   ]
  },
  {
   "cell_type": "code",
   "execution_count": 11,
   "id": "7988fa90",
   "metadata": {},
   "outputs": [],
   "source": [
    "import spacy\n",
    "\n",
    "def counter(string):\n",
    "\n",
    "    x = spacy.load('en_core_web_sm')           # Load the language model\n",
    "\n",
    "    y = x(string)                              # Process the text\n",
    "\n",
    "    counts = {\n",
    "        'verbs': 0,\n",
    "        'nouns': 0,\n",
    "        'pronouns': 0,\n",
    "        'adjectives': 0\n",
    "    }\n",
    "\n",
    "    for i in y:                                # Iterate over each token in the document\n",
    "        a = i.pos_\n",
    "        \n",
    "        if a == 'VERB':\n",
    "            counts['verbs'] += 1\n",
    "        elif a == 'NOUN':\n",
    "            counts['nouns'] += 1\n",
    "        elif a == 'PRON':\n",
    "            counts['pronouns'] += 1\n",
    "        elif a == 'ADJ':\n",
    "            counts['adjectives'] += 1\n",
    "\n",
    "    return counts\n",
    "     "
   ]
  },
  {
   "cell_type": "code",
   "execution_count": 12,
   "id": "8823cdf9",
   "metadata": {},
   "outputs": [
    {
     "data": {
      "text/plain": [
       "{'verbs': 2, 'nouns': 3, 'pronouns': 0, 'adjectives': 2}"
      ]
     },
     "execution_count": 12,
     "metadata": {},
     "output_type": "execute_result"
    }
   ],
   "source": [
    "counter('The curious cat chased the fluttering butterfly through the lush green.')"
   ]
  },
  {
   "cell_type": "code",
   "execution_count": 13,
   "id": "746bf4dc",
   "metadata": {},
   "outputs": [
    {
     "data": {
      "text/plain": [
       "{'verbs': 3, 'nouns': 5, 'pronouns': 0, 'adjectives': 1}"
      ]
     },
     "execution_count": 13,
     "metadata": {},
     "output_type": "execute_result"
    }
   ],
   "source": [
    "counter('In the distance, the waves crashed against the rocky shoreline, creating a mesmerizing symphony of sound.')"
   ]
  },
  {
   "cell_type": "code",
   "execution_count": 14,
   "id": "2af1c814",
   "metadata": {},
   "outputs": [
    {
     "data": {
      "text/plain": [
       "{'verbs': 2, 'nouns': 6, 'pronouns': 0, 'adjectives': 3}"
      ]
     },
     "execution_count": 14,
     "metadata": {},
     "output_type": "execute_result"
    }
   ],
   "source": [
    "counter('After a long day at work, Sarah enjoyed a relaxing bubble bath while sipping on a glass of red wine.')"
   ]
  },
  {
   "cell_type": "code",
   "execution_count": 16,
   "id": "e2d0aee6",
   "metadata": {},
   "outputs": [
    {
     "data": {
      "text/plain": [
       "{'verbs': 3, 'nouns': 7, 'pronouns': 0, 'adjectives': 1}"
      ]
     },
     "execution_count": 16,
     "metadata": {},
     "output_type": "execute_result"
    }
   ],
   "source": [
    "counter('As the sun set behind the mountains, painting the sky in shades of orange and pink, a sense of tranquility filled.')"
   ]
  },
  {
   "cell_type": "code",
   "execution_count": null,
   "id": "c15e948f",
   "metadata": {},
   "outputs": [],
   "source": []
  },
  {
   "cell_type": "code",
   "execution_count": null,
   "id": "94dd99f6",
   "metadata": {},
   "outputs": [],
   "source": []
  }
 ],
 "metadata": {
  "kernelspec": {
   "display_name": "Python 3",
   "language": "python",
   "name": "python3"
  },
  "language_info": {
   "codemirror_mode": {
    "name": "ipython",
    "version": 3
   },
   "file_extension": ".py",
   "mimetype": "text/x-python",
   "name": "python",
   "nbconvert_exporter": "python",
   "pygments_lexer": "ipython3",
   "version": "3.8.8"
  }
 },
 "nbformat": 4,
 "nbformat_minor": 5
}
