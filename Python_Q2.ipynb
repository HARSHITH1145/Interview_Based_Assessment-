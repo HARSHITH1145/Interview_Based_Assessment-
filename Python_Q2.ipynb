{
 "cells": [
  {
   "cell_type": "markdown",
   "id": "0f2b4595",
   "metadata": {},
   "source": [
    "# Question 2: -\n",
    "Consider a string to be valid if all characters of the string appear the same number of times. It is also valid if\n",
    "he can remove just one character at the index in the string, and the remaining characters will occur the same\n",
    "number of times. Given a string, determine if it is valid. If so, return YES , otherwise return NO .\n",
    "\n",
    "Note - You have to write at least 2 additional test cases in which your program will run successfully and provide\n",
    "an explanation for the same.\n",
    "Example input 1 - s = “abc”. This is a valid string because frequencies are { “a”: 1, “b”: 1, “c”: 1 }\n",
    "Example output 1- YES\n",
    "Example input 2 - s “abcc”. This string is not valid as we can remove only 1 occurrence of “c”. That leaves\n",
    "character frequencies of { “a”: 1, “b”: 1 , “c”: 2 }\n",
    "Example output 2 - NO"
   ]
  },
  {
   "cell_type": "code",
   "execution_count": 38,
   "id": "a66552ff",
   "metadata": {},
   "outputs": [],
   "source": [
    "def string_validation(string):\n",
    "    l={}\n",
    "    for i in string:\n",
    "        if i in l:\n",
    "            l[i]+=1\n",
    "        else:\n",
    "            l[i]=1\n",
    "    print(l)\n",
    "    l=list(l.values())\n",
    "    m=max(l)\n",
    "    b=min(l)\n",
    "    print(l)\n",
    "    print(f'Max. count is {m}')\n",
    "    print(f'Min. count is {b}')\n",
    "    if l.count(m)==len(l):\n",
    "        return 'YES'\n",
    "    elif l.count(m)==len(l)-1 and (l.count(b)==1) and (m-b == 1 or b==1):\n",
    "        return 'YES'\n",
    "    elif (l.count(b)==len(l)-1) and (l.count(m)==1) and (m-b == 1 or m==1):\n",
    "        return 'YES'\n",
    "    elif abs(m-b)>1 or l.count(m)>1:\n",
    "        return 'NO'\n",
    "    else:\n",
    "        return 'NO'\n",
    "  \n",
    "    \n",
    "    \n",
    "    "
   ]
  },
  {
   "cell_type": "code",
   "execution_count": 39,
   "id": "008c13cf",
   "metadata": {},
   "outputs": [
    {
     "name": "stdout",
     "output_type": "stream",
     "text": [
      "{'w': 2, 'r': 3, 'i': 2, 't': 4, 'e': 4, ' ': 6, 'f': 1, 'o': 1, 'h': 2, ',': 1}\n",
      "[2, 3, 2, 4, 4, 6, 1, 1, 2, 1]\n",
      "Max. count is 6\n",
      "Min. count is 1\n"
     ]
    },
    {
     "data": {
      "text/plain": [
       "'NO'"
      ]
     },
     "execution_count": 39,
     "metadata": {},
     "output_type": "execute_result"
    }
   ],
   "source": [
    "string_validation('write write for the , the ')"
   ]
  },
  {
   "cell_type": "code",
   "execution_count": 41,
   "id": "1e32cf16",
   "metadata": {},
   "outputs": [
    {
     "name": "stdout",
     "output_type": "stream",
     "text": [
      "{'A': 1, ' ': 10, 'r': 1, 'o': 8, 'm': 1, 'w': 2, 'i': 4, 't': 4, 'h': 2, 'u': 3, 'b': 2, 'k': 2, 's': 3, 'l': 2, 'e': 1, 'a': 2, 'd': 1, 'y': 1, '.': 1}\n",
      "[1, 10, 1, 8, 1, 2, 4, 4, 2, 3, 2, 2, 3, 2, 1, 2, 1, 1, 1]\n",
      "Max. count is 10\n",
      "Min. count is 1\n"
     ]
    },
    {
     "data": {
      "text/plain": [
       "'NO'"
      ]
     },
     "execution_count": 41,
     "metadata": {},
     "output_type": "execute_result"
    }
   ],
   "source": [
    "string_validation('A room without books is like a body without a soul.')"
   ]
  },
  {
   "cell_type": "code",
   "execution_count": 45,
   "id": "d474a34c",
   "metadata": {},
   "outputs": [
    {
     "name": "stdout",
     "output_type": "stream",
     "text": [
      "{'Y': 1, 'o': 6, 'u': 5, ' ': 17, 'k': 1, 'n': 6, 'w': 2, 'y': 5, 'r': 5, \"'\": 2, 'e': 11, 'i': 4, 'l': 7, 'v': 1, 'h': 2, 'c': 2, 'a': 8, 't': 5, 'f': 2, 's': 4, 'p': 1, 'b': 2, 'd': 1, 'm': 1, '.': 1}\n",
      "[1, 6, 5, 17, 1, 6, 2, 5, 5, 2, 11, 4, 7, 1, 2, 2, 8, 5, 2, 4, 1, 2, 1, 1, 1]\n",
      "Max. count is 17\n",
      "Min. count is 1\n"
     ]
    },
    {
     "data": {
      "text/plain": [
       "'NO'"
      ]
     },
     "execution_count": 45,
     "metadata": {},
     "output_type": "execute_result"
    }
   ],
   "source": [
    "string_validation(\"You know your'e in love when you can't fall asleep because reality is finally better than your dreams.\")"
   ]
  },
  {
   "cell_type": "code",
   "execution_count": null,
   "id": "ba4835e7",
   "metadata": {},
   "outputs": [],
   "source": []
  }
 ],
 "metadata": {
  "kernelspec": {
   "display_name": "Python 3",
   "language": "python",
   "name": "python3"
  },
  "language_info": {
   "codemirror_mode": {
    "name": "ipython",
    "version": 3
   },
   "file_extension": ".py",
   "mimetype": "text/x-python",
   "name": "python",
   "nbconvert_exporter": "python",
   "pygments_lexer": "ipython3",
   "version": "3.8.8"
  }
 },
 "nbformat": 4,
 "nbformat_minor": 5
}
